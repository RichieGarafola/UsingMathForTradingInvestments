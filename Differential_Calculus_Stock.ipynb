{
 "cells": [
  {
   "cell_type": "markdown",
   "metadata": {
    "nteract": {
     "transient": {
      "deleting": false
     }
    }
   },
   "source": [
    "# Differential Calculus"
   ]
  },
  {
   "cell_type": "markdown",
   "metadata": {
    "nteract": {
     "transient": {
      "deleting": false
     }
    }
   },
   "source": [
    "### Apply Stock data in Differential Calculus"
   ]
  },
  {
   "cell_type": "code",
   "execution_count": 1,
   "metadata": {
    "execution": {
     "iopub.execute_input": "2022-04-16T00:10:42.128Z",
     "iopub.status.busy": "2022-04-16T00:10:42.122Z",
     "iopub.status.idle": "2022-04-16T00:10:42.134Z",
     "shell.execute_reply": "2022-04-16T00:10:42.060Z"
    },
    "nteract": {
     "transient": {
      "deleting": false
     }
    },
    "tags": []
   },
   "outputs": [],
   "source": [
    "import numpy as np\n",
    "import pandas as pd\n",
    "import matplotlib.pyplot as plt\n",
    "import seaborn as sns\n",
    "\n",
    "import warnings\n",
    "warnings.filterwarnings(\"ignore\") \n",
    "\n",
    "# yfinance is used to fetch data \n",
    "import yfinance as yf\n",
    "yf.pdr_override()"
   ]
  },
  {
   "cell_type": "code",
   "execution_count": 2,
   "metadata": {
    "execution": {
     "iopub.execute_input": "2022-04-16T00:10:42.148Z",
     "iopub.status.busy": "2022-04-16T00:10:42.142Z",
     "iopub.status.idle": "2022-04-16T00:10:42.677Z",
     "shell.execute_reply": "2022-04-16T00:10:42.864Z"
    },
    "nteract": {
     "transient": {
      "deleting": false
     }
    },
    "tags": []
   },
   "outputs": [
    {
     "name": "stdout",
     "output_type": "stream",
     "text": [
      "[*********************100%***********************]  1 of 1 completed\n"
     ]
    },
    {
     "data": {
      "text/html": [
       "<div>\n",
       "<style scoped>\n",
       "    .dataframe tbody tr th:only-of-type {\n",
       "        vertical-align: middle;\n",
       "    }\n",
       "\n",
       "    .dataframe tbody tr th {\n",
       "        vertical-align: top;\n",
       "    }\n",
       "\n",
       "    .dataframe thead th {\n",
       "        text-align: right;\n",
       "    }\n",
       "</style>\n",
       "<table border=\"1\" class=\"dataframe\">\n",
       "  <thead>\n",
       "    <tr style=\"text-align: right;\">\n",
       "      <th></th>\n",
       "      <th>Open</th>\n",
       "      <th>High</th>\n",
       "      <th>Low</th>\n",
       "      <th>Close</th>\n",
       "      <th>Adj Close</th>\n",
       "      <th>Volume</th>\n",
       "    </tr>\n",
       "    <tr>\n",
       "      <th>Date</th>\n",
       "      <th></th>\n",
       "      <th></th>\n",
       "      <th></th>\n",
       "      <th></th>\n",
       "      <th></th>\n",
       "      <th></th>\n",
       "    </tr>\n",
       "  </thead>\n",
       "  <tbody>\n",
       "    <tr>\n",
       "      <th>1980-03-17</th>\n",
       "      <td>0.0</td>\n",
       "      <td>3.302083</td>\n",
       "      <td>3.125000</td>\n",
       "      <td>3.145833</td>\n",
       "      <td>3.145833</td>\n",
       "      <td>219600</td>\n",
       "    </tr>\n",
       "    <tr>\n",
       "      <th>1980-03-18</th>\n",
       "      <td>0.0</td>\n",
       "      <td>3.125000</td>\n",
       "      <td>2.937500</td>\n",
       "      <td>3.031250</td>\n",
       "      <td>3.031250</td>\n",
       "      <td>727200</td>\n",
       "    </tr>\n",
       "    <tr>\n",
       "      <th>1980-03-19</th>\n",
       "      <td>0.0</td>\n",
       "      <td>3.083333</td>\n",
       "      <td>3.020833</td>\n",
       "      <td>3.041667</td>\n",
       "      <td>3.041667</td>\n",
       "      <td>295200</td>\n",
       "    </tr>\n",
       "    <tr>\n",
       "      <th>1980-03-20</th>\n",
       "      <td>0.0</td>\n",
       "      <td>3.062500</td>\n",
       "      <td>3.010417</td>\n",
       "      <td>3.010417</td>\n",
       "      <td>3.010417</td>\n",
       "      <td>159600</td>\n",
       "    </tr>\n",
       "    <tr>\n",
       "      <th>1980-03-21</th>\n",
       "      <td>0.0</td>\n",
       "      <td>3.020833</td>\n",
       "      <td>2.906250</td>\n",
       "      <td>2.916667</td>\n",
       "      <td>2.916667</td>\n",
       "      <td>130800</td>\n",
       "    </tr>\n",
       "  </tbody>\n",
       "</table>\n",
       "</div>"
      ],
      "text/plain": [
       "            Open      High       Low     Close  Adj Close  Volume\n",
       "Date                                                             \n",
       "1980-03-17   0.0  3.302083  3.125000  3.145833   3.145833  219600\n",
       "1980-03-18   0.0  3.125000  2.937500  3.031250   3.031250  727200\n",
       "1980-03-19   0.0  3.083333  3.020833  3.041667   3.041667  295200\n",
       "1980-03-20   0.0  3.062500  3.010417  3.010417   3.010417  159600\n",
       "1980-03-21   0.0  3.020833  2.906250  2.916667   2.916667  130800"
      ]
     },
     "execution_count": 2,
     "metadata": {},
     "output_type": "execute_result"
    }
   ],
   "source": [
    "# input\n",
    "symbol = 'AMD'\n",
    "\n",
    "# Read data \n",
    "dataset = yf.download(symbol)\n",
    "\n",
    "# View Columns\n",
    "dataset.head()"
   ]
  },
  {
   "cell_type": "code",
   "execution_count": 3,
   "metadata": {
    "execution": {
     "iopub.execute_input": "2022-04-16T00:10:42.691Z",
     "iopub.status.busy": "2022-04-16T00:10:42.685Z",
     "iopub.status.idle": "2022-04-16T00:10:42.702Z",
     "shell.execute_reply": "2022-04-16T00:10:42.869Z"
    },
    "nteract": {
     "transient": {
      "deleting": false
     }
    },
    "tags": []
   },
   "outputs": [],
   "source": [
    "x = np.array(dataset['Adj Close'])"
   ]
  },
  {
   "cell_type": "code",
   "execution_count": 4,
   "metadata": {
    "execution": {
     "iopub.execute_input": "2022-04-16T00:10:42.717Z",
     "iopub.status.busy": "2022-04-16T00:10:42.711Z",
     "iopub.status.idle": "2022-04-16T00:10:42.730Z",
     "shell.execute_reply": "2022-04-16T00:10:42.873Z"
    },
    "nteract": {
     "transient": {
      "deleting": false
     }
    },
    "tags": []
   },
   "outputs": [
    {
     "data": {
      "text/plain": [
       "10753"
      ]
     },
     "execution_count": 4,
     "metadata": {},
     "output_type": "execute_result"
    }
   ],
   "source": [
    "len(x)"
   ]
  },
  {
   "cell_type": "code",
   "execution_count": 5,
   "metadata": {
    "execution": {
     "iopub.execute_input": "2022-04-16T00:10:42.746Z",
     "iopub.status.busy": "2022-04-16T00:10:42.739Z",
     "iopub.status.idle": "2022-04-16T00:10:42.756Z",
     "shell.execute_reply": "2022-04-16T00:10:42.877Z"
    },
    "nteract": {
     "transient": {
      "deleting": false
     }
    },
    "tags": []
   },
   "outputs": [],
   "source": [
    "# Define function f(x)\n",
    "def f(x):\n",
    "    return x**2"
   ]
  },
  {
   "cell_type": "code",
   "execution_count": 6,
   "metadata": {
    "execution": {
     "iopub.execute_input": "2022-04-16T00:10:42.771Z",
     "iopub.status.busy": "2022-04-16T00:10:42.765Z",
     "iopub.status.idle": "2022-04-16T00:10:42.782Z",
     "shell.execute_reply": "2022-04-16T00:10:42.880Z"
    },
    "nteract": {
     "transient": {
      "deleting": false
     }
    },
    "tags": []
   },
   "outputs": [],
   "source": [
    "y = f(x)"
   ]
  },
  {
   "cell_type": "code",
   "execution_count": 7,
   "metadata": {
    "execution": {
     "iopub.execute_input": "2022-04-16T00:10:42.798Z",
     "iopub.status.busy": "2022-04-16T00:10:42.792Z",
     "iopub.status.idle": "2022-04-16T00:10:42.808Z",
     "shell.execute_reply": "2022-04-16T00:10:42.884Z"
    },
    "nteract": {
     "transient": {
      "deleting": false
     }
    },
    "tags": []
   },
   "outputs": [],
   "source": [
    "# f'(x) using the rate of change\n",
    "delta_x = 0.0001\n",
    "y1 = (f(x+delta_x) - f(x))/delta_x"
   ]
  },
  {
   "cell_type": "code",
   "execution_count": 8,
   "metadata": {
    "execution": {
     "iopub.execute_input": "2022-04-16T00:10:42.823Z",
     "iopub.status.busy": "2022-04-16T00:10:42.817Z",
     "iopub.status.idle": "2022-04-16T00:10:42.832Z",
     "shell.execute_reply": "2022-04-16T00:10:42.889Z"
    },
    "nteract": {
     "transient": {
      "deleting": false
     }
    },
    "tags": []
   },
   "outputs": [],
   "source": [
    "# f'(x) using the rule\n",
    "y2 = 2 * x"
   ]
  },
  {
   "cell_type": "code",
   "execution_count": 9,
   "metadata": {
    "execution": {
     "iopub.execute_input": "2022-04-16T00:10:42.846Z",
     "iopub.status.busy": "2022-04-16T00:10:42.840Z",
     "iopub.status.idle": "2022-04-16T00:10:42.938Z",
     "shell.execute_reply": "2022-04-16T00:10:42.930Z"
    },
    "nteract": {
     "transient": {
      "deleting": false
     }
    },
    "tags": []
   },
   "outputs": [
    {
     "data": {
      "image/png": "[encoded data removed]",
      "text/plain": [
       "<Figure size 864x360 with 2 Axes>"
      ]
     },
     "metadata": {
      "needs_background": "light"
     },
     "output_type": "display_data"
    }
   ],
   "source": [
    "# Plot f(x) on left half of the figure\n",
    "fig = plt.figure(figsize=(12,5))\n",
    "ax = fig.add_subplot(121)\n",
    "ax.plot(x, y)\n",
    "ax.set_title(\"y=f(x)\")\n",
    "\n",
    "# Plot f'(x) on right half of the figure\n",
    "ax = fig.add_subplot(122)\n",
    "ax.plot(x, y1, c=\"r\", alpha=0.5, label=\"rate\")\n",
    "ax.plot(x, y2, c=\"b\", alpha=0.5, label=\"rule\")\n",
    "ax.set_title(\"y=f'(x)\")\n",
    "ax.legend() \n",
    "plt.show()"
   ]
  },
  {
   "cell_type": "code",
   "execution_count": 10,
   "metadata": {
    "execution": {
     "iopub.execute_input": "2022-04-16T00:10:42.954Z",
     "iopub.status.busy": "2022-04-16T00:10:42.948Z",
     "iopub.status.idle": "2022-04-16T00:10:42.965Z",
     "shell.execute_reply": "2022-04-16T00:10:43.086Z"
    },
    "nteract": {
     "transient": {
      "deleting": false
     }
    },
    "tags": []
   },
   "outputs": [],
   "source": [
    "# Define function f(x)\n",
    "def f(x):\n",
    "    return x**3 - 2*x**2 + 1"
   ]
  },
  {
   "cell_type": "code",
   "execution_count": 11,
   "metadata": {
    "execution": {
     "iopub.execute_input": "2022-04-16T00:10:42.982Z",
     "iopub.status.busy": "2022-04-16T00:10:42.975Z",
     "iopub.status.idle": "2022-04-16T00:10:42.996Z",
     "shell.execute_reply": "2022-04-16T00:10:43.092Z"
    },
    "nteract": {
     "transient": {
      "deleting": false
     }
    },
    "tags": []
   },
   "outputs": [],
   "source": [
    "y = f(x)"
   ]
  },
  {
   "cell_type": "code",
   "execution_count": 12,
   "metadata": {
    "execution": {
     "iopub.execute_input": "2022-04-16T00:10:43.018Z",
     "iopub.status.busy": "2022-04-16T00:10:43.009Z",
     "iopub.status.idle": "2022-04-16T00:10:43.029Z",
     "shell.execute_reply": "2022-04-16T00:10:43.097Z"
    },
    "nteract": {
     "transient": {
      "deleting": false
     }
    },
    "tags": []
   },
   "outputs": [],
   "source": [
    "# f'(x) using the rate of change\n",
    "delta_x = 0.0001\n",
    "y1 = (f(x+delta_x) - f(x))/delta_x"
   ]
  },
  {
   "cell_type": "code",
   "execution_count": 13,
   "metadata": {
    "execution": {
     "iopub.execute_input": "2022-04-16T00:10:43.047Z",
     "iopub.status.busy": "2022-04-16T00:10:43.040Z",
     "iopub.status.idle": "2022-04-16T00:10:43.057Z",
     "shell.execute_reply": "2022-04-16T00:10:43.101Z"
    },
    "nteract": {
     "transient": {
      "deleting": false
     }
    },
    "tags": []
   },
   "outputs": [],
   "source": [
    "# f'(x) using the rule\n",
    "y2 = 3 * x **2  - 4*x"
   ]
  },
  {
   "cell_type": "code",
   "execution_count": 14,
   "metadata": {
    "execution": {
     "iopub.execute_input": "2022-04-16T00:10:43.073Z",
     "iopub.status.busy": "2022-04-16T00:10:43.067Z",
     "iopub.status.idle": "2022-04-16T00:10:43.162Z",
     "shell.execute_reply": "2022-04-16T00:10:43.371Z"
    },
    "nteract": {
     "transient": {
      "deleting": false
     }
    },
    "tags": []
   },
   "outputs": [
    {
     "data": {
      "image/png": "[encoded data removed]",
      "text/plain": [
       "<Figure size 864x360 with 2 Axes>"
      ]
     },
     "metadata": {
      "needs_background": "light"
     },
     "output_type": "display_data"
    }
   ],
   "source": [
    "# Plot f(x) on left half of the figure\n",
    "fig = plt.figure(figsize=(12,5))\n",
    "ax = fig.add_subplot(121)\n",
    "ax.plot(x, y)\n",
    "ax.set_title(\"y=f(x)\")\n",
    "\n",
    "# Plot f'(x) on right half of the figure\n",
    "ax = fig.add_subplot(122)\n",
    "ax.plot(x, y1, c=\"r\", alpha=0.5, label=\"rate\")\n",
    "ax.plot(x, y2, c=\"b\", alpha=0.5, label=\"rule\")\n",
    "ax.set_title(\"y=f'(x)\")\n",
    "ax.legend() \n",
    "plt.show()"
   ]
  },
  {
   "cell_type": "code",
   "execution_count": 15,
   "metadata": {
    "execution": {
     "iopub.execute_input": "2022-04-16T00:10:43.179Z",
     "iopub.status.busy": "2022-04-16T00:10:43.171Z",
     "iopub.status.idle": "2022-04-16T00:10:43.193Z",
     "shell.execute_reply": "2022-04-16T00:10:43.380Z"
    },
    "nteract": {
     "transient": {
      "deleting": false
     }
    },
    "tags": []
   },
   "outputs": [
    {
     "data": {
      "text/plain": [
       "Date\n",
       "1980-03-18   -0.036424\n",
       "1980-03-19    0.003437\n",
       "1980-03-20   -0.010274\n",
       "1980-03-21   -0.031142\n",
       "1980-03-24   -0.085714\n",
       "Name: Adj Close, dtype: float64"
      ]
     },
     "execution_count": 15,
     "metadata": {},
     "output_type": "execute_result"
    }
   ],
   "source": [
    "returns = dataset['Adj Close'].pct_change().dropna()\n",
    "returns.head()"
   ]
  },
  {
   "cell_type": "code",
   "execution_count": 16,
   "metadata": {
    "execution": {
     "iopub.execute_input": "2022-04-16T00:10:43.211Z",
     "iopub.status.busy": "2022-04-16T00:10:43.203Z",
     "iopub.status.idle": "2022-04-16T00:10:43.223Z",
     "shell.execute_reply": "2022-04-16T00:10:43.401Z"
    },
    "nteract": {
     "transient": {
      "deleting": false
     }
    },
    "tags": []
   },
   "outputs": [],
   "source": [
    "x = np.array(returns)"
   ]
  },
  {
   "cell_type": "code",
   "execution_count": 17,
   "metadata": {
    "execution": {
     "iopub.execute_input": "2022-04-16T00:10:43.241Z",
     "iopub.status.busy": "2022-04-16T00:10:43.233Z",
     "iopub.status.idle": "2022-04-16T00:10:43.252Z",
     "shell.execute_reply": "2022-04-16T00:10:43.405Z"
    },
    "nteract": {
     "transient": {
      "deleting": false
     }
    },
    "tags": []
   },
   "outputs": [],
   "source": [
    "# Define function f(x)\n",
    "def f(x):\n",
    "    return x**2"
   ]
  },
  {
   "cell_type": "code",
   "execution_count": 18,
   "metadata": {
    "execution": {
     "iopub.execute_input": "2022-04-16T00:10:43.273Z",
     "iopub.status.busy": "2022-04-16T00:10:43.265Z",
     "iopub.status.idle": "2022-04-16T00:10:43.284Z",
     "shell.execute_reply": "2022-04-16T00:10:43.409Z"
    },
    "nteract": {
     "transient": {
      "deleting": false
     }
    },
    "tags": []
   },
   "outputs": [],
   "source": [
    "y = f(x)"
   ]
  },
  {
   "cell_type": "code",
   "execution_count": 19,
   "metadata": {
    "execution": {
     "iopub.execute_input": "2022-04-16T00:10:43.301Z",
     "iopub.status.busy": "2022-04-16T00:10:43.294Z",
     "iopub.status.idle": "2022-04-16T00:10:43.312Z",
     "shell.execute_reply": "2022-04-16T00:10:43.413Z"
    },
    "nteract": {
     "transient": {
      "deleting": false
     }
    },
    "tags": []
   },
   "outputs": [],
   "source": [
    "# f'(x) using the rate of change\n",
    "delta_x = 0.0001\n",
    "y1 = (f(x+delta_x) - f(x))/delta_x"
   ]
  },
  {
   "cell_type": "code",
   "execution_count": 20,
   "metadata": {
    "execution": {
     "iopub.execute_input": "2022-04-16T00:10:43.329Z",
     "iopub.status.busy": "2022-04-16T00:10:43.322Z",
     "iopub.status.idle": "2022-04-16T00:10:43.339Z",
     "shell.execute_reply": "2022-04-16T00:10:43.416Z"
    },
    "nteract": {
     "transient": {
      "deleting": false
     }
    },
    "tags": []
   },
   "outputs": [],
   "source": [
    "# f'(x) using the rule\n",
    "y2 = 2 * x"
   ]
  },
  {
   "cell_type": "code",
   "execution_count": 21,
   "metadata": {
    "execution": {
     "iopub.execute_input": "2022-04-16T00:10:43.352Z",
     "iopub.status.busy": "2022-04-16T00:10:43.347Z",
     "iopub.status.idle": "2022-04-16T00:10:43.500Z",
     "shell.execute_reply": "2022-04-16T00:10:43.506Z"
    },
    "nteract": {
     "transient": {
      "deleting": false
     }
    },
    "tags": []
   },
   "outputs": [
    {
     "data": {
      "image/png": "[encoded data removed]",
      "text/plain": [
       "<Figure size 1152x576 with 2 Axes>"
      ]
     },
     "metadata": {
      "needs_background": "light"
     },
     "output_type": "display_data"
    }
   ],
   "source": [
    "# Plot f(x) on left half of the figure\n",
    "fig = plt.figure(figsize=(16,8))\n",
    "ax = fig.add_subplot(121)\n",
    "ax.plot(x, y)\n",
    "ax.set_title(\"y=f(x)\")\n",
    "\n",
    "# Plot f'(x) on right half of the figure\n",
    "ax = fig.add_subplot(122)\n",
    "ax.plot(x, y1, c=\"r\", alpha=0.5, label=\"rate\")\n",
    "ax.plot(x, y2, c=\"b\", alpha=0.5, label=\"rule\")\n",
    "ax.set_title(\"y=f'(x)\")\n",
    "ax.legend() \n",
    "plt.show()"
   ]
  },
  {
   "cell_type": "code",
   "execution_count": null,
   "metadata": {},
   "outputs": [],
   "source": []
  },
  {
   "cell_type": "code",
   "execution_count": null,
   "metadata": {},
   "outputs": [],
   "source": []
  }
 ],
 "metadata": {
  "kernel_info": {
   "name": "python3"
  },
  "kernelspec": {
   "display_name": "Python 3 (ipykernel)",
   "language": "python",
   "name": "python3"
  },
  "language_info": {
   "codemirror_mode": {
    "name": "ipython",
    "version": 3
   },
   "file_extension": ".py",
   "mimetype": "text/x-python",
   "name": "python",
   "nbconvert_exporter": "python",
   "pygments_lexer": "ipython3",
   "version": "3.7.11"
  },
  "nteract": {
   "version": "0.28.0"
  }
 },
 "nbformat": 4,
 "nbformat_minor": 4
}
