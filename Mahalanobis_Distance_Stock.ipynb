{
 "cells": [
  {
   "cell_type": "markdown",
   "metadata": {
    "nteract": {
     "transient": {
      "deleting": false
     }
    }
   },
   "source": [
    "# Mahalanobis Distance"
   ]
  },
  {
   "cell_type": "markdown",
   "metadata": {
    "nteract": {
     "transient": {
      "deleting": false
     }
    }
   },
   "source": [
    "## Mahalanobis distance is the distance between two points in a multivariate space. It’s  used in statistical analyses to find outliers that involve serval variables.\n"
   ]
  },
  {
   "cell_type": "markdown",
   "metadata": {
    "nteract": {
     "transient": {
      "deleting": false
     }
    }
   },
   "source": [
    "## Formula: d(p,q) = √(p1-q1)^2 + (p2-q2)^2"
   ]
  },
  {
   "cell_type": "code",
   "execution_count": 1,
   "metadata": {
    "nteract": {
     "transient": {
      "deleting": false
     }
    },
    "tags": []
   },
   "outputs": [],
   "source": [
    "import numpy as np\n",
    "import scipy as stats\n",
    "from scipy.stats import chi2\n",
    "\n",
    "import warnings\n",
    "warnings.filterwarnings(\"ignore\") \n",
    "\n",
    "# yfinance is used to fetch data \n",
    "import yfinance as yf\n",
    "yf.pdr_override()"
   ]
  },
  {
   "cell_type": "code",
   "execution_count": 2,
   "metadata": {
    "nteract": {
     "transient": {
      "deleting": false
     }
    },
    "tags": []
   },
   "outputs": [
    {
     "name": "stdout",
     "output_type": "stream",
     "text": [
      "[*********************100%***********************]  1 of 1 completed\n"
     ]
    },
    {
     "data": {
      "text/html": [
       "<div>\n",
       "<style scoped>\n",
       "    .dataframe tbody tr th:only-of-type {\n",
       "        vertical-align: middle;\n",
       "    }\n",
       "\n",
       "    .dataframe tbody tr th {\n",
       "        vertical-align: top;\n",
       "    }\n",
       "\n",
       "    .dataframe thead th {\n",
       "        text-align: right;\n",
       "    }\n",
       "</style>\n",
       "<table border=\"1\" class=\"dataframe\">\n",
       "  <thead>\n",
       "    <tr style=\"text-align: right;\">\n",
       "      <th></th>\n",
       "      <th>Open</th>\n",
       "      <th>High</th>\n",
       "      <th>Low</th>\n",
       "      <th>Close</th>\n",
       "      <th>Adj Close</th>\n",
       "      <th>Volume</th>\n",
       "    </tr>\n",
       "    <tr>\n",
       "      <th>Date</th>\n",
       "      <th></th>\n",
       "      <th></th>\n",
       "      <th></th>\n",
       "      <th></th>\n",
       "      <th></th>\n",
       "      <th></th>\n",
       "    </tr>\n",
       "  </thead>\n",
       "  <tbody>\n",
       "    <tr>\n",
       "      <th>1980-03-17</th>\n",
       "      <td>0.0</td>\n",
       "      <td>3.302083</td>\n",
       "      <td>3.125000</td>\n",
       "      <td>3.145833</td>\n",
       "      <td>3.145833</td>\n",
       "      <td>219600</td>\n",
       "    </tr>\n",
       "    <tr>\n",
       "      <th>1980-03-18</th>\n",
       "      <td>0.0</td>\n",
       "      <td>3.125000</td>\n",
       "      <td>2.937500</td>\n",
       "      <td>3.031250</td>\n",
       "      <td>3.031250</td>\n",
       "      <td>727200</td>\n",
       "    </tr>\n",
       "    <tr>\n",
       "      <th>1980-03-19</th>\n",
       "      <td>0.0</td>\n",
       "      <td>3.083333</td>\n",
       "      <td>3.020833</td>\n",
       "      <td>3.041667</td>\n",
       "      <td>3.041667</td>\n",
       "      <td>295200</td>\n",
       "    </tr>\n",
       "    <tr>\n",
       "      <th>1980-03-20</th>\n",
       "      <td>0.0</td>\n",
       "      <td>3.062500</td>\n",
       "      <td>3.010417</td>\n",
       "      <td>3.010417</td>\n",
       "      <td>3.010417</td>\n",
       "      <td>159600</td>\n",
       "    </tr>\n",
       "    <tr>\n",
       "      <th>1980-03-21</th>\n",
       "      <td>0.0</td>\n",
       "      <td>3.020833</td>\n",
       "      <td>2.906250</td>\n",
       "      <td>2.916667</td>\n",
       "      <td>2.916667</td>\n",
       "      <td>130800</td>\n",
       "    </tr>\n",
       "  </tbody>\n",
       "</table>\n",
       "</div>"
      ],
      "text/plain": [
       "            Open      High       Low     Close  Adj Close  Volume\n",
       "Date                                                             \n",
       "1980-03-17   0.0  3.302083  3.125000  3.145833   3.145833  219600\n",
       "1980-03-18   0.0  3.125000  2.937500  3.031250   3.031250  727200\n",
       "1980-03-19   0.0  3.083333  3.020833  3.041667   3.041667  295200\n",
       "1980-03-20   0.0  3.062500  3.010417  3.010417   3.010417  159600\n",
       "1980-03-21   0.0  3.020833  2.906250  2.916667   2.916667  130800"
      ]
     },
     "execution_count": 2,
     "metadata": {},
     "output_type": "execute_result"
    }
   ],
   "source": [
    "symbol = 'AMD'\n",
    "\n",
    "\n",
    "# Read data \n",
    "dataset = yf.download(symbol)\n",
    "\n",
    "# View Columns\n",
    "dataset.head()"
   ]
  },
  {
   "cell_type": "code",
   "execution_count": 3,
   "metadata": {
    "nteract": {
     "transient": {
      "deleting": false
     }
    },
    "tags": []
   },
   "outputs": [
    {
     "data": {
      "text/html": [
       "<div>\n",
       "<style scoped>\n",
       "    .dataframe tbody tr th:only-of-type {\n",
       "        vertical-align: middle;\n",
       "    }\n",
       "\n",
       "    .dataframe tbody tr th {\n",
       "        vertical-align: top;\n",
       "    }\n",
       "\n",
       "    .dataframe thead th {\n",
       "        text-align: right;\n",
       "    }\n",
       "</style>\n",
       "<table border=\"1\" class=\"dataframe\">\n",
       "  <thead>\n",
       "    <tr style=\"text-align: right;\">\n",
       "      <th></th>\n",
       "      <th>Open</th>\n",
       "      <th>High</th>\n",
       "      <th>Low</th>\n",
       "      <th>Close</th>\n",
       "      <th>Adj Close</th>\n",
       "      <th>Volume</th>\n",
       "    </tr>\n",
       "    <tr>\n",
       "      <th>Date</th>\n",
       "      <th></th>\n",
       "      <th></th>\n",
       "      <th></th>\n",
       "      <th></th>\n",
       "      <th></th>\n",
       "      <th></th>\n",
       "    </tr>\n",
       "  </thead>\n",
       "  <tbody>\n",
       "    <tr>\n",
       "      <th>2022-10-31</th>\n",
       "      <td>60.750000</td>\n",
       "      <td>61.860001</td>\n",
       "      <td>59.529999</td>\n",
       "      <td>60.060001</td>\n",
       "      <td>60.060001</td>\n",
       "      <td>73274100</td>\n",
       "    </tr>\n",
       "    <tr>\n",
       "      <th>2022-11-01</th>\n",
       "      <td>61.490002</td>\n",
       "      <td>61.990002</td>\n",
       "      <td>59.430000</td>\n",
       "      <td>59.660000</td>\n",
       "      <td>59.660000</td>\n",
       "      <td>83806700</td>\n",
       "    </tr>\n",
       "    <tr>\n",
       "      <th>2022-11-02</th>\n",
       "      <td>63.000000</td>\n",
       "      <td>63.930000</td>\n",
       "      <td>58.570000</td>\n",
       "      <td>58.630001</td>\n",
       "      <td>58.630001</td>\n",
       "      <td>142669400</td>\n",
       "    </tr>\n",
       "    <tr>\n",
       "      <th>2022-11-03</th>\n",
       "      <td>58.110001</td>\n",
       "      <td>62.279999</td>\n",
       "      <td>58.029999</td>\n",
       "      <td>60.110001</td>\n",
       "      <td>60.110001</td>\n",
       "      <td>95279900</td>\n",
       "    </tr>\n",
       "    <tr>\n",
       "      <th>2022-11-04</th>\n",
       "      <td>62.500000</td>\n",
       "      <td>63.000000</td>\n",
       "      <td>60.540001</td>\n",
       "      <td>62.544998</td>\n",
       "      <td>62.544998</td>\n",
       "      <td>22303441</td>\n",
       "    </tr>\n",
       "  </tbody>\n",
       "</table>\n",
       "</div>"
      ],
      "text/plain": [
       "                 Open       High        Low      Close  Adj Close     Volume\n",
       "Date                                                                        \n",
       "2022-10-31  60.750000  61.860001  59.529999  60.060001  60.060001   73274100\n",
       "2022-11-01  61.490002  61.990002  59.430000  59.660000  59.660000   83806700\n",
       "2022-11-02  63.000000  63.930000  58.570000  58.630001  58.630001  142669400\n",
       "2022-11-03  58.110001  62.279999  58.029999  60.110001  60.110001   95279900\n",
       "2022-11-04  62.500000  63.000000  60.540001  62.544998  62.544998   22303441"
      ]
     },
     "execution_count": 3,
     "metadata": {},
     "output_type": "execute_result"
    }
   ],
   "source": [
    "dataset.tail()"
   ]
  },
  {
   "cell_type": "code",
   "execution_count": 4,
   "metadata": {
    "nteract": {
     "transient": {
      "deleting": false
     }
    },
    "tags": []
   },
   "outputs": [
    {
     "data": {
      "text/html": [
       "<div>\n",
       "<style scoped>\n",
       "    .dataframe tbody tr th:only-of-type {\n",
       "        vertical-align: middle;\n",
       "    }\n",
       "\n",
       "    .dataframe tbody tr th {\n",
       "        vertical-align: top;\n",
       "    }\n",
       "\n",
       "    .dataframe thead th {\n",
       "        text-align: right;\n",
       "    }\n",
       "</style>\n",
       "<table border=\"1\" class=\"dataframe\">\n",
       "  <thead>\n",
       "    <tr style=\"text-align: right;\">\n",
       "      <th></th>\n",
       "      <th>Open</th>\n",
       "      <th>High</th>\n",
       "      <th>Low</th>\n",
       "      <th>Close</th>\n",
       "    </tr>\n",
       "    <tr>\n",
       "      <th>Date</th>\n",
       "      <th></th>\n",
       "      <th></th>\n",
       "      <th></th>\n",
       "      <th></th>\n",
       "    </tr>\n",
       "  </thead>\n",
       "  <tbody>\n",
       "    <tr>\n",
       "      <th>1980-03-17</th>\n",
       "      <td>0.0</td>\n",
       "      <td>3.302083</td>\n",
       "      <td>3.125000</td>\n",
       "      <td>3.145833</td>\n",
       "    </tr>\n",
       "    <tr>\n",
       "      <th>1980-03-18</th>\n",
       "      <td>0.0</td>\n",
       "      <td>3.125000</td>\n",
       "      <td>2.937500</td>\n",
       "      <td>3.031250</td>\n",
       "    </tr>\n",
       "    <tr>\n",
       "      <th>1980-03-19</th>\n",
       "      <td>0.0</td>\n",
       "      <td>3.083333</td>\n",
       "      <td>3.020833</td>\n",
       "      <td>3.041667</td>\n",
       "    </tr>\n",
       "    <tr>\n",
       "      <th>1980-03-20</th>\n",
       "      <td>0.0</td>\n",
       "      <td>3.062500</td>\n",
       "      <td>3.010417</td>\n",
       "      <td>3.010417</td>\n",
       "    </tr>\n",
       "    <tr>\n",
       "      <th>1980-03-21</th>\n",
       "      <td>0.0</td>\n",
       "      <td>3.020833</td>\n",
       "      <td>2.906250</td>\n",
       "      <td>2.916667</td>\n",
       "    </tr>\n",
       "  </tbody>\n",
       "</table>\n",
       "</div>"
      ],
      "text/plain": [
       "            Open      High       Low     Close\n",
       "Date                                          \n",
       "1980-03-17   0.0  3.302083  3.125000  3.145833\n",
       "1980-03-18   0.0  3.125000  2.937500  3.031250\n",
       "1980-03-19   0.0  3.083333  3.020833  3.041667\n",
       "1980-03-20   0.0  3.062500  3.010417  3.010417\n",
       "1980-03-21   0.0  3.020833  2.906250  2.916667"
      ]
     },
     "execution_count": 4,
     "metadata": {},
     "output_type": "execute_result"
    }
   ],
   "source": [
    "dataset = dataset.drop(['Adj Close', 'Volume'], axis=1)\n",
    "dataset.head()"
   ]
  },
  {
   "cell_type": "code",
   "execution_count": 5,
   "metadata": {
    "nteract": {
     "transient": {
      "deleting": false
     }
    },
    "tags": []
   },
   "outputs": [],
   "source": [
    "def mahalanobis_distance(x=None, data=None, cov=None):\n",
    "\n",
    "    x_mu = x - np.mean(data)\n",
    "    if not cov:\n",
    "        cov = np.cov(data.values.T)\n",
    "    inv_covmat = np.linalg.inv(cov)\n",
    "    left = np.dot(x_mu, inv_covmat)\n",
    "    mahal = np.dot(left, x_mu.T)\n",
    "    return mahal.diagonal()"
   ]
  },
  {
   "cell_type": "code",
   "execution_count": 6,
   "metadata": {
    "nteract": {
     "transient": {
      "deleting": false
     }
    },
    "tags": []
   },
   "outputs": [
    {
     "data": {
      "text/plain": [
       "array([ 5.70606561,  4.88591699,  4.97654835, ..., 61.80660152,\n",
       "       15.45657781,  8.63708589])"
      ]
     },
     "execution_count": 6,
     "metadata": {},
     "output_type": "execute_result"
    }
   ],
   "source": [
    "df = mahalanobis_distance(x=dataset, data=dataset)\n",
    "df"
   ]
  },
  {
   "cell_type": "code",
   "execution_count": 7,
   "metadata": {
    "nteract": {
     "transient": {
      "deleting": false
     }
    },
    "tags": []
   },
   "outputs": [],
   "source": [
    "dataset = dataset.reset_index(drop=True)"
   ]
  },
  {
   "cell_type": "code",
   "execution_count": 8,
   "metadata": {
    "nteract": {
     "transient": {
      "deleting": false
     }
    },
    "tags": []
   },
   "outputs": [
    {
     "data": {
      "text/html": [
       "<div>\n",
       "<style scoped>\n",
       "    .dataframe tbody tr th:only-of-type {\n",
       "        vertical-align: middle;\n",
       "    }\n",
       "\n",
       "    .dataframe tbody tr th {\n",
       "        vertical-align: top;\n",
       "    }\n",
       "\n",
       "    .dataframe thead th {\n",
       "        text-align: right;\n",
       "    }\n",
       "</style>\n",
       "<table border=\"1\" class=\"dataframe\">\n",
       "  <thead>\n",
       "    <tr style=\"text-align: right;\">\n",
       "      <th></th>\n",
       "      <th>Open</th>\n",
       "      <th>High</th>\n",
       "      <th>Low</th>\n",
       "      <th>Close</th>\n",
       "    </tr>\n",
       "  </thead>\n",
       "  <tbody>\n",
       "    <tr>\n",
       "      <th>0</th>\n",
       "      <td>0.0</td>\n",
       "      <td>3.302083</td>\n",
       "      <td>3.125000</td>\n",
       "      <td>3.145833</td>\n",
       "    </tr>\n",
       "    <tr>\n",
       "      <th>1</th>\n",
       "      <td>0.0</td>\n",
       "      <td>3.125000</td>\n",
       "      <td>2.937500</td>\n",
       "      <td>3.031250</td>\n",
       "    </tr>\n",
       "    <tr>\n",
       "      <th>2</th>\n",
       "      <td>0.0</td>\n",
       "      <td>3.083333</td>\n",
       "      <td>3.020833</td>\n",
       "      <td>3.041667</td>\n",
       "    </tr>\n",
       "    <tr>\n",
       "      <th>3</th>\n",
       "      <td>0.0</td>\n",
       "      <td>3.062500</td>\n",
       "      <td>3.010417</td>\n",
       "      <td>3.010417</td>\n",
       "    </tr>\n",
       "    <tr>\n",
       "      <th>4</th>\n",
       "      <td>0.0</td>\n",
       "      <td>3.020833</td>\n",
       "      <td>2.906250</td>\n",
       "      <td>2.916667</td>\n",
       "    </tr>\n",
       "  </tbody>\n",
       "</table>\n",
       "</div>"
      ],
      "text/plain": [
       "   Open      High       Low     Close\n",
       "0   0.0  3.302083  3.125000  3.145833\n",
       "1   0.0  3.125000  2.937500  3.031250\n",
       "2   0.0  3.083333  3.020833  3.041667\n",
       "3   0.0  3.062500  3.010417  3.010417\n",
       "4   0.0  3.020833  2.906250  2.916667"
      ]
     },
     "execution_count": 8,
     "metadata": {},
     "output_type": "execute_result"
    }
   ],
   "source": [
    "dataset.head()"
   ]
  },
  {
   "cell_type": "code",
   "execution_count": 9,
   "metadata": {
    "nteract": {
     "transient": {
      "deleting": false
     }
    },
    "tags": []
   },
   "outputs": [
    {
     "data": {
      "text/html": [
       "<div>\n",
       "<style scoped>\n",
       "    .dataframe tbody tr th:only-of-type {\n",
       "        vertical-align: middle;\n",
       "    }\n",
       "\n",
       "    .dataframe tbody tr th {\n",
       "        vertical-align: top;\n",
       "    }\n",
       "\n",
       "    .dataframe thead th {\n",
       "        text-align: right;\n",
       "    }\n",
       "</style>\n",
       "<table border=\"1\" class=\"dataframe\">\n",
       "  <thead>\n",
       "    <tr style=\"text-align: right;\">\n",
       "      <th></th>\n",
       "      <th>Open</th>\n",
       "      <th>High</th>\n",
       "      <th>Low</th>\n",
       "      <th>Close</th>\n",
       "      <th>mahalanobis</th>\n",
       "    </tr>\n",
       "  </thead>\n",
       "  <tbody>\n",
       "    <tr>\n",
       "      <th>0</th>\n",
       "      <td>0.0</td>\n",
       "      <td>3.302083</td>\n",
       "      <td>3.125000</td>\n",
       "      <td>3.145833</td>\n",
       "      <td>5.706066</td>\n",
       "    </tr>\n",
       "    <tr>\n",
       "      <th>1</th>\n",
       "      <td>0.0</td>\n",
       "      <td>3.125000</td>\n",
       "      <td>2.937500</td>\n",
       "      <td>3.031250</td>\n",
       "      <td>4.885917</td>\n",
       "    </tr>\n",
       "    <tr>\n",
       "      <th>2</th>\n",
       "      <td>0.0</td>\n",
       "      <td>3.083333</td>\n",
       "      <td>3.020833</td>\n",
       "      <td>3.041667</td>\n",
       "      <td>4.976548</td>\n",
       "    </tr>\n",
       "    <tr>\n",
       "      <th>3</th>\n",
       "      <td>0.0</td>\n",
       "      <td>3.062500</td>\n",
       "      <td>3.010417</td>\n",
       "      <td>3.010417</td>\n",
       "      <td>4.964220</td>\n",
       "    </tr>\n",
       "    <tr>\n",
       "      <th>4</th>\n",
       "      <td>0.0</td>\n",
       "      <td>3.020833</td>\n",
       "      <td>2.906250</td>\n",
       "      <td>2.916667</td>\n",
       "      <td>4.756563</td>\n",
       "    </tr>\n",
       "  </tbody>\n",
       "</table>\n",
       "</div>"
      ],
      "text/plain": [
       "   Open      High       Low     Close  mahalanobis\n",
       "0   0.0  3.302083  3.125000  3.145833     5.706066\n",
       "1   0.0  3.125000  2.937500  3.031250     4.885917\n",
       "2   0.0  3.083333  3.020833  3.041667     4.976548\n",
       "3   0.0  3.062500  3.010417  3.010417     4.964220\n",
       "4   0.0  3.020833  2.906250  2.916667     4.756563"
      ]
     },
     "execution_count": 9,
     "metadata": {},
     "output_type": "execute_result"
    }
   ],
   "source": [
    "dataset['mahalanobis'] = mahalanobis_distance(x=dataset, data=dataset[['Open', 'High', 'Low', 'Close']])\n",
    "dataset.head()"
   ]
  },
  {
   "cell_type": "code",
   "execution_count": 10,
   "metadata": {
    "nteract": {
     "transient": {
      "deleting": false
     }
    },
    "tags": []
   },
   "outputs": [
    {
     "data": {
      "text/html": [
       "<div>\n",
       "<style scoped>\n",
       "    .dataframe tbody tr th:only-of-type {\n",
       "        vertical-align: middle;\n",
       "    }\n",
       "\n",
       "    .dataframe tbody tr th {\n",
       "        vertical-align: top;\n",
       "    }\n",
       "\n",
       "    .dataframe thead th {\n",
       "        text-align: right;\n",
       "    }\n",
       "</style>\n",
       "<table border=\"1\" class=\"dataframe\">\n",
       "  <thead>\n",
       "    <tr style=\"text-align: right;\">\n",
       "      <th></th>\n",
       "      <th>Open</th>\n",
       "      <th>High</th>\n",
       "      <th>Low</th>\n",
       "      <th>Close</th>\n",
       "      <th>mahalanobis</th>\n",
       "      <th>p</th>\n",
       "    </tr>\n",
       "  </thead>\n",
       "  <tbody>\n",
       "    <tr>\n",
       "      <th>0</th>\n",
       "      <td>0.0</td>\n",
       "      <td>3.302083</td>\n",
       "      <td>3.125000</td>\n",
       "      <td>3.145833</td>\n",
       "      <td>5.706066</td>\n",
       "      <td>0.222201</td>\n",
       "    </tr>\n",
       "    <tr>\n",
       "      <th>1</th>\n",
       "      <td>0.0</td>\n",
       "      <td>3.125000</td>\n",
       "      <td>2.937500</td>\n",
       "      <td>3.031250</td>\n",
       "      <td>4.885917</td>\n",
       "      <td>0.299205</td>\n",
       "    </tr>\n",
       "    <tr>\n",
       "      <th>2</th>\n",
       "      <td>0.0</td>\n",
       "      <td>3.083333</td>\n",
       "      <td>3.020833</td>\n",
       "      <td>3.041667</td>\n",
       "      <td>4.976548</td>\n",
       "      <td>0.289712</td>\n",
       "    </tr>\n",
       "    <tr>\n",
       "      <th>3</th>\n",
       "      <td>0.0</td>\n",
       "      <td>3.062500</td>\n",
       "      <td>3.010417</td>\n",
       "      <td>3.010417</td>\n",
       "      <td>4.964220</td>\n",
       "      <td>0.290988</td>\n",
       "    </tr>\n",
       "    <tr>\n",
       "      <th>4</th>\n",
       "      <td>0.0</td>\n",
       "      <td>3.020833</td>\n",
       "      <td>2.906250</td>\n",
       "      <td>2.916667</td>\n",
       "      <td>4.756563</td>\n",
       "      <td>0.313200</td>\n",
       "    </tr>\n",
       "  </tbody>\n",
       "</table>\n",
       "</div>"
      ],
      "text/plain": [
       "   Open      High       Low     Close  mahalanobis         p\n",
       "0   0.0  3.302083  3.125000  3.145833     5.706066  0.222201\n",
       "1   0.0  3.125000  2.937500  3.031250     4.885917  0.299205\n",
       "2   0.0  3.083333  3.020833  3.041667     4.976548  0.289712\n",
       "3   0.0  3.062500  3.010417  3.010417     4.964220  0.290988\n",
       "4   0.0  3.020833  2.906250  2.916667     4.756563  0.313200"
      ]
     },
     "execution_count": 10,
     "metadata": {},
     "output_type": "execute_result"
    }
   ],
   "source": [
    "dataset['p'] = 1 - chi2.cdf(dataset['mahalanobis'], 4)\n",
    "dataset.head()"
   ]
  },
  {
   "cell_type": "code",
   "execution_count": null,
   "metadata": {},
   "outputs": [],
   "source": []
  },
  {
   "cell_type": "code",
   "execution_count": null,
   "metadata": {},
   "outputs": [],
   "source": []
  }
 ],
 "metadata": {
  "kernel_info": {
   "name": "python3"
  },
  "kernelspec": {
   "display_name": "Python 3 (ipykernel)",
   "language": "python",
   "name": "python3"
  },
  "language_info": {
   "codemirror_mode": {
    "name": "ipython",
    "version": 3
   },
   "file_extension": ".py",
   "mimetype": "text/x-python",
   "name": "python",
   "nbconvert_exporter": "python",
   "pygments_lexer": "ipython3",
   "version": "3.7.11"
  },
  "nteract": {
   "version": "0.28.0"
  }
 },
 "nbformat": 4,
 "nbformat_minor": 4
}
